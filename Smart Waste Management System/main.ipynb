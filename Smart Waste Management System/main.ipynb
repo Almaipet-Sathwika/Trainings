{
 "cells": [
  {
   "cell_type": "code",
   "execution_count": 1,
   "id": "35753add",
   "metadata": {},
   "outputs": [],
   "source": [
    "import numpy as np\n",
    "import cv2\n",
    "import matplotlib.pyplot as plt\n",
    "from sklearn.model_selection import train_test_split"
   ]
  },
  {
   "cell_type": "code",
   "execution_count": 2,
   "id": "5e615565",
   "metadata": {},
   "outputs": [],
   "source": [
    "from tensorflow.keras.utils import to_categorical\n",
    "from keras.layers import MaxPooling2D\n",
    "from keras.layers import Dense,Dropout,Activation,Flatten\n",
    "from keras.layers import Convolution2D\n",
    "from keras.models import Sequential\n",
    "from keras.models import model_from_json"
   ]
  },
  {
   "cell_type": "code",
   "execution_count": 3,
   "id": "b9f79d92",
   "metadata": {},
   "outputs": [],
   "source": [
    "IMG_SIZE = 128"
   ]
  },
  {
   "cell_type": "code",
   "execution_count": 4,
   "id": "30a1c1bc",
   "metadata": {},
   "outputs": [],
   "source": [
    "import os \n"
   ]
  },
  {
   "cell_type": "code",
   "execution_count": 5,
   "id": "aa525ca2",
   "metadata": {},
   "outputs": [],
   "source": [
    "def load_dataset(basepath):\n",
    "    X,Y=[],[]\n",
    "    for label, folder in enumerate(['cardboard','glass','metal','paper','plastic','trash']):\n",
    "        folder_path = os.path.join(basepath,folder)\n",
    "        for file in os.listdir(folder_path):\n",
    "            path = os.path.join(folder_path,file)\n",
    "            img = cv2.imread(path,0)\n",
    "            if img is None:\n",
    "                continue\n",
    "\n",
    "            img = cv2.resize(img,(IMG_SIZE,IMG_SIZE))\n",
    "            img = img.reshape(IMG_SIZE,IMG_SIZE,1)\n",
    "\n",
    "            X.append(img)\n",
    "            Y.append(label)\n",
    "\n",
    "    return np.array(X),np.array(Y)"
   ]
  },
  {
   "cell_type": "code",
   "execution_count": 6,
   "id": "d16537af",
   "metadata": {},
   "outputs": [],
   "source": [
    "ds = \"C:/Users/Sathw/OneDrive/Desktop/Training/Pro5/newdataset/train\"\n",
    "X,Y = load_dataset(ds)"
   ]
  },
  {
   "cell_type": "code",
   "execution_count": 7,
   "id": "b1fe36f0",
   "metadata": {},
   "outputs": [],
   "source": [
    "X = X.astype(\"float\")/255.0\n",
    "Y = to_categorical(Y)\n",
    "\n",
    "x_train, x_test, y_train, y_test = train_test_split(X,Y, test_size = 0.2, random_state = 42)"
   ]
  },
  {
   "cell_type": "code",
   "execution_count": 8,
   "id": "1765b060",
   "metadata": {},
   "outputs": [],
   "source": [
    "from keras.models import Sequential"
   ]
  },
  {
   "cell_type": "markdown",
   "id": "f1639c3f",
   "metadata": {},
   "source": [
    "model = Sequential()\n",
    "model.add(Convolution2D(32,(3,3),input_shape =(128,128,1),activation = 'relu'))\n",
    "model.add(MaxPooling2D(pool_size=(2, 2)))\n",
    "model.add(Convolution2D(32, (3, 3), activation='relu'))\n",
    "model.add(MaxPooling2D(pool_size=(2, 2)))\n",
    "model.add(Flatten())\n",
    "model.add(Dense(128, activation='relu'))\n",
    "model.add(Dense(6, activation='softmax'))"
   ]
  },
  {
   "cell_type": "code",
   "execution_count": 9,
   "id": "442f74d4",
   "metadata": {},
   "outputs": [],
   "source": [
    "from keras.models import Sequential\n",
    "from keras.layers import Conv2D, MaxPooling2D, Flatten, Dense, Dropout, BatchNormalization\n"
   ]
  },
  {
   "cell_type": "markdown",
   "id": "3ac5df23",
   "metadata": {},
   "source": [
    "#### Conv2D\n",
    "Conv2D(no.of filters,filter size,actinavation='relu)"
   ]
  },
  {
   "cell_type": "code",
   "execution_count": 10,
   "id": "5277949a",
   "metadata": {},
   "outputs": [
    {
     "name": "stderr",
     "output_type": "stream",
     "text": [
      "c:\\Users\\Sathw\\AppData\\Local\\Programs\\Python\\Python39\\lib\\site-packages\\keras\\src\\layers\\convolutional\\base_conv.py:113: UserWarning: Do not pass an `input_shape`/`input_dim` argument to a layer. When using Sequential models, prefer using an `Input(shape)` object as the first layer in the model instead.\n",
      "  super().__init__(activity_regularizer=activity_regularizer, **kwargs)\n"
     ]
    }
   ],
   "source": [
    "from keras.models import Sequential\n",
    "from keras.layers import Conv2D, MaxPooling2D, Flatten, Dense, Dropout, BatchNormalization\n",
    "\n",
    "model = Sequential([\n",
    "    Conv2D(32, (3, 3), activation='relu', padding='same', input_shape=(128, 128, 1)),\n",
    "    BatchNormalization(),\n",
    "    MaxPooling2D(pool_size=(2, 2)),\n",
    "\n",
    "    Conv2D(64, (3, 3), activation='relu', padding='same'),\n",
    "    BatchNormalization(),\n",
    "    MaxPooling2D(pool_size=(2, 2)),\n",
    "\n",
    "    Conv2D(128, (3, 3), activation='relu', padding='same'),\n",
    "    BatchNormalization(),\n",
    "    MaxPooling2D(pool_size=(2, 2)),\n",
    "\n",
    "    Flatten(),\n",
    "    Dense(128, activation='relu'),\n",
    "    Dropout(0.5),\n",
    "    Dense(6, activation='softmax')  # 6 = number of output classes\n",
    "])\n"
   ]
  },
  {
   "cell_type": "code",
   "execution_count": 12,
   "id": "710d6a23",
   "metadata": {},
   "outputs": [
    {
     "name": "stdout",
     "output_type": "stream",
     "text": [
      "Epoch 1/10\n",
      "Epoch 2/10\n",
      "Epoch 3/10\n",
      "Epoch 4/10\n",
      "Epoch 5/10\n",
      "Epoch 6/10\n",
      "Epoch 7/10\n",
      "Epoch 8/10\n",
      "Epoch 9/10\n",
      "Epoch 10/10\n"
     ]
    },
    {
     "data": {
      "text/plain": [
       "<keras.src.callbacks.history.History at 0x20162ee1b20>"
      ]
     },
     "execution_count": 12,
     "metadata": {},
     "output_type": "execute_result"
    }
   ],
   "source": [
    "model.compile(optimizer='adam', loss ='categorical_crossentropy',metrics=['accuracy'])\n",
    "model.fit(x_train,y_train,batch_size=20,epochs=10,validation_split=0.2,shuffle=True,verbose=6)"
   ]
  },
  {
   "cell_type": "code",
   "execution_count": 13,
   "id": "65bfe6aa",
   "metadata": {},
   "outputs": [
    {
     "name": "stdout",
     "output_type": "stream",
     "text": [
      "loss: 1.7918606996536255\n",
      "accuracy: 0.29841896891593933\n"
     ]
    }
   ],
   "source": [
    "loss , accuracy = model.evaluate(x_test,y_test,verbose=0)\n",
    "print('loss:',loss)\n",
    "print('accuracy:',accuracy)"
   ]
  },
  {
   "cell_type": "markdown",
   "id": "3c1899bf",
   "metadata": {},
   "source": [
    "filename = input(\"enter relative path with '/\")"
   ]
  },
  {
   "cell_type": "markdown",
   "id": "5f49e61c",
   "metadata": {},
   "source": [
    "category = ['cardboard','glass','metal','paper','plastic','trash']\n",
    "\n",
    "folder = 'newdataset/val/'\n",
    "\n",
    "file = os.path.join(folder, filename)\n",
    "\n",
    "img = cv2.imread(file,0)  # for grayscale img to reduce memory\n",
    "img =cv2.resize(img,(128,128))\n",
    "img = img.reshape(1,128,128,1)\n",
    "\n",
    "\"\"\"TensorFlow/Keras models expect a 4D input shape.\n",
    "1 at the start → means one image (batch size = 1).\n",
    "1 at the end → means grayscale (1 channel). For RGB, it would be 3.\"\"\"\n",
    "\n",
    "img = img.astype('float32')/255.0\n",
    "#Converts pixel values (originally from 0–255 integers) to 0–1 float values.\n"
   ]
  },
  {
   "cell_type": "code",
   "execution_count": 14,
   "id": "ee186152",
   "metadata": {},
   "outputs": [],
   "source": [
    "category = ['cardboard','glass','metal','paper','plastic','trash']\n",
    "file = \"newdataset/val/metal/metal_402.jpg\"\n",
    "img = cv2.imread(file,0)  # for grayscale img to reduce memory\n",
    "img =cv2.resize(img,(128,128))\n",
    "img = img.reshape(1,128,128,1)\n",
    "\n",
    "\"\"\"TensorFlow/Keras models expect a 4D input shape.\n",
    "1 at the start → means one image (batch size = 1).\n",
    "1 at the end → means grayscale (1 channel). For RGB, it would be 3.\"\"\"\n",
    "\n",
    "img = img.astype('float32')/255.0\n",
    "#Converts pixel values (originally from 0–255 integers) to 0–1 float values.\n"
   ]
  },
  {
   "cell_type": "code",
   "execution_count": 15,
   "metadata": {},
   "outputs": [
    {
     "name": "stdout",
     "output_type": "stream",
     "text": [
      "\u001b[1m1/1\u001b[0m \u001b[32m━━━━━━━━━━━━━━━━━━━━\u001b[0m\u001b[37m\u001b[0m \u001b[1m0s\u001b[0m 287ms/step\n",
      "prediction probabilities:  [[5.6058183e-02 2.5078393e-07 7.5198971e-02 8.5582930e-01 4.5119836e-03\n",
      "  8.4012924e-03]]\n",
      "probability of cardboard 5.605818331241608\n",
      "probability of glass 2.5078392695832008e-05\n",
      "probability of metal 7.519897073507309\n",
      "probability of paper 85.58292984962463\n",
      "probability of plastic 0.4511983599513769\n",
      "probability of trash 0.8401292376220226\n",
      "output:  paper\n"
     ]
    }
   ],
   "source": [
    "pred = model.predict(img)\n",
    "cls= np.argmax(pred)\n",
    "print(\"prediction probabilities: \",pred)\n",
    "\n",
    "print(\"probability of cardboard\",pred[0][0]*100)\n",
    "print(\"probability of glass\",pred[0][1]*100)\n",
    "print(\"probability of metal\",pred[0][2]*100)\n",
    "print(\"probability of paper\",pred[0][3]*100)\n",
    "print(\"probability of plastic\",pred[0][4]*100)\n",
    "print(\"probability of trash\",pred[0][5]*100)\n",
    "\n",
    "output = category[cls]\n",
    "print(\"output: \",category[cls])"
   ]
  },
  {
   "cell_type": "code",
   "execution_count": null,
   "metadata": {},
   "outputs": [],
   "source": []
  },
  {
   "cell_type": "code",
   "execution_count": 16,
   "metadata": {},
   "outputs": [],
   "source": [
    "img = cv2.imread(file)\n",
    "cv2.imshow(\"PIC\",img)\n",
    "cv2.putText(img,output,(20,40),cv2.FONT_HERSHEY_COMPLEX_SMALL,1,(0,255,255),1)\n",
    "\n",
    "\n",
    "cv2.waitKey(0)\n",
    "cv2.destroyAllWindows()"
   ]
  },
  {
   "cell_type": "code",
   "execution_count": null,
   "metadata": {},
   "outputs": [],
   "source": []
  },
  {
   "cell_type": "code",
   "execution_count": null,
   "metadata": {},
   "outputs": [],
   "source": []
  },
  {
   "cell_type": "code",
   "execution_count": null,
   "metadata": {},
   "outputs": [],
   "source": []
  },
  {
   "cell_type": "code",
   "execution_count": null,
   "metadata": {},
   "outputs": [],
   "source": []
  }
 ],
 "metadata": {
  "kernelspec": {
   "display_name": "Python 3",
   "language": "python",
   "name": "python3"
  },
  "language_info": {
   "codemirror_mode": {
    "name": "ipython",
    "version": 3
   },
   "file_extension": ".py",
   "mimetype": "text/x-python",
   "name": "python",
   "nbconvert_exporter": "python",
   "pygments_lexer": "ipython3",
   "version": "3.9.13"
  }
 },
 "nbformat": 4,
 "nbformat_minor": 5
}
